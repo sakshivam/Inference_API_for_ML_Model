{
 "cells": [
  {
   "cell_type": "code",
   "execution_count": 1,
   "metadata": {},
   "outputs": [],
   "source": [
    "import pandas as pd\n",
    "import numpy as np"
   ]
  },
  {
   "cell_type": "code",
   "execution_count": 23,
   "metadata": {},
   "outputs": [],
   "source": [
    "a = {\n",
    "  \"passanger\": 0,\n",
    "  \"coupon\": 0,\n",
    "  \"CoffeeHouse\": 0,\n",
    "  \"destination\": 0,\n",
    "  \"expiration\": 0,\n",
    "  \"toCoupon_GEQ25min\": 1,\n",
    "  \"Bar\": 0,\n",
    "  \"gender\": 0,\n",
    "  \"Restaurant20To50\": 0,\n",
    "  \"temperature\": 2\n",
    "}"
   ]
  },
  {
   "cell_type": "code",
   "execution_count": 6,
   "metadata": {},
   "outputs": [
    {
     "data": {
      "text/plain": [
       "dict_items([('passanger', 0), ('coupon', 0), ('CoffeeHouse', 0), ('destination', 0), ('expiration', 0), ('toCoupon_GEQ25min', 0), ('Bar', 0), ('gender', 0), ('Restaurant20To50', 0), ('temperature', 0)])"
      ]
     },
     "execution_count": 6,
     "metadata": {},
     "output_type": "execute_result"
    }
   ],
   "source": [
    "a.items()"
   ]
  },
  {
   "cell_type": "code",
   "execution_count": 9,
   "metadata": {},
   "outputs": [
    {
     "data": {
      "text/html": [
       "<div>\n",
       "<style scoped>\n",
       "    .dataframe tbody tr th:only-of-type {\n",
       "        vertical-align: middle;\n",
       "    }\n",
       "\n",
       "    .dataframe tbody tr th {\n",
       "        vertical-align: top;\n",
       "    }\n",
       "\n",
       "    .dataframe thead th {\n",
       "        text-align: right;\n",
       "    }\n",
       "</style>\n",
       "<table border=\"1\" class=\"dataframe\">\n",
       "  <thead>\n",
       "    <tr style=\"text-align: right;\">\n",
       "      <th></th>\n",
       "      <th>0</th>\n",
       "      <th>1</th>\n",
       "    </tr>\n",
       "  </thead>\n",
       "  <tbody>\n",
       "    <tr>\n",
       "      <th>0</th>\n",
       "      <td>passanger</td>\n",
       "      <td>0</td>\n",
       "    </tr>\n",
       "    <tr>\n",
       "      <th>1</th>\n",
       "      <td>coupon</td>\n",
       "      <td>0</td>\n",
       "    </tr>\n",
       "    <tr>\n",
       "      <th>2</th>\n",
       "      <td>CoffeeHouse</td>\n",
       "      <td>0</td>\n",
       "    </tr>\n",
       "    <tr>\n",
       "      <th>3</th>\n",
       "      <td>destination</td>\n",
       "      <td>0</td>\n",
       "    </tr>\n",
       "    <tr>\n",
       "      <th>4</th>\n",
       "      <td>expiration</td>\n",
       "      <td>0</td>\n",
       "    </tr>\n",
       "    <tr>\n",
       "      <th>5</th>\n",
       "      <td>toCoupon_GEQ25min</td>\n",
       "      <td>0</td>\n",
       "    </tr>\n",
       "    <tr>\n",
       "      <th>6</th>\n",
       "      <td>Bar</td>\n",
       "      <td>0</td>\n",
       "    </tr>\n",
       "    <tr>\n",
       "      <th>7</th>\n",
       "      <td>gender</td>\n",
       "      <td>0</td>\n",
       "    </tr>\n",
       "    <tr>\n",
       "      <th>8</th>\n",
       "      <td>Restaurant20To50</td>\n",
       "      <td>0</td>\n",
       "    </tr>\n",
       "    <tr>\n",
       "      <th>9</th>\n",
       "      <td>temperature</td>\n",
       "      <td>0</td>\n",
       "    </tr>\n",
       "  </tbody>\n",
       "</table>\n",
       "</div>"
      ],
      "text/plain": [
       "                   0  1\n",
       "0          passanger  0\n",
       "1             coupon  0\n",
       "2        CoffeeHouse  0\n",
       "3        destination  0\n",
       "4         expiration  0\n",
       "5  toCoupon_GEQ25min  0\n",
       "6                Bar  0\n",
       "7             gender  0\n",
       "8   Restaurant20To50  0\n",
       "9        temperature  0"
      ]
     },
     "execution_count": 9,
     "metadata": {},
     "output_type": "execute_result"
    }
   ],
   "source": [
    "pd.DataFrame(a.items())"
   ]
  },
  {
   "cell_type": "code",
   "execution_count": 8,
   "metadata": {},
   "outputs": [],
   "source": [
    "from mlflow.sklearn import load_model"
   ]
  },
  {
   "cell_type": "code",
   "execution_count": 10,
   "metadata": {},
   "outputs": [],
   "source": [
    "model = load_model(\".\\model\")"
   ]
  },
  {
   "cell_type": "code",
   "execution_count": 17,
   "metadata": {},
   "outputs": [],
   "source": [
    "df = pd.DataFrame([{\n",
    "  \"passanger\": 0,\n",
    "  \"coupon\": 0,\n",
    "  \"CoffeeHouse\": 0,\n",
    "  \"destination\": 0,\n",
    "  \"expiration\": 0,\n",
    "  \"toCoupon_GEQ25min\": 0,\n",
    "  \"Bar\": 0,\n",
    "  \"gender\": 0,\n",
    "  \"Restaurant20To50\": 0,\n",
    "  \"temperature\": 0\n",
    "},\n",
    "{\"passanger\": 0,\n",
    "  \"coupon\": 0,\n",
    "  \"CoffeeHouse\": 1,\n",
    "  \"destination\": 0,\n",
    "  \"expiration\": 0,\n",
    "  \"toCoupon_GEQ25min\": 0,\n",
    "  \"Bar\": 0,\n",
    "  \"gender\": 0,\n",
    "  \"Restaurant20To50\": 0,\n",
    "  \"temperature\": 1}])"
   ]
  },
  {
   "cell_type": "code",
   "execution_count": 18,
   "metadata": {},
   "outputs": [
    {
     "name": "stderr",
     "output_type": "stream",
     "text": [
      "[Parallel(n_jobs=1)]: Using backend SequentialBackend with 1 concurrent workers.\n",
      "[Parallel(n_jobs=1)]: Done   1 out of   1 | elapsed:    0.0s remaining:    0.0s\n",
      "[Parallel(n_jobs=1)]: Done 100 out of 100 | elapsed:    0.0s finished\n"
     ]
    },
    {
     "data": {
      "text/plain": [
       "array([0, 0], dtype=int64)"
      ]
     },
     "execution_count": 18,
     "metadata": {},
     "output_type": "execute_result"
    }
   ],
   "source": [
    "model.predict(df)"
   ]
  },
  {
   "cell_type": "code",
   "execution_count": 27,
   "metadata": {},
   "outputs": [],
   "source": [
    "data = [\n",
    "  {\n",
    "    \"passanger\": 0,\n",
    "    \"coupon\": 0,\n",
    "    \"CoffeeHouse\": 0,\n",
    "    \"destination\": 0,\n",
    "    \"expiration\": 0,\n",
    "    \"toCoupon_GEQ25min\": 1,\n",
    "    \"Bar\": 0,\n",
    "    \"gender\": 0,\n",
    "    \"Restaurant20To50\": 0,\n",
    "    \"temperature\": 2\n",
    "  }\n",
    "]"
   ]
  },
  {
   "cell_type": "code",
   "execution_count": 28,
   "metadata": {},
   "outputs": [
    {
     "data": {
      "text/html": [
       "<div>\n",
       "<style scoped>\n",
       "    .dataframe tbody tr th:only-of-type {\n",
       "        vertical-align: middle;\n",
       "    }\n",
       "\n",
       "    .dataframe tbody tr th {\n",
       "        vertical-align: top;\n",
       "    }\n",
       "\n",
       "    .dataframe thead th {\n",
       "        text-align: right;\n",
       "    }\n",
       "</style>\n",
       "<table border=\"1\" class=\"dataframe\">\n",
       "  <thead>\n",
       "    <tr style=\"text-align: right;\">\n",
       "      <th></th>\n",
       "      <th>passanger</th>\n",
       "      <th>coupon</th>\n",
       "      <th>CoffeeHouse</th>\n",
       "      <th>destination</th>\n",
       "      <th>expiration</th>\n",
       "      <th>toCoupon_GEQ25min</th>\n",
       "      <th>Bar</th>\n",
       "      <th>gender</th>\n",
       "      <th>Restaurant20To50</th>\n",
       "      <th>temperature</th>\n",
       "    </tr>\n",
       "  </thead>\n",
       "  <tbody>\n",
       "    <tr>\n",
       "      <th>0</th>\n",
       "      <td>0</td>\n",
       "      <td>0</td>\n",
       "      <td>0</td>\n",
       "      <td>0</td>\n",
       "      <td>0</td>\n",
       "      <td>1</td>\n",
       "      <td>0</td>\n",
       "      <td>0</td>\n",
       "      <td>0</td>\n",
       "      <td>2</td>\n",
       "    </tr>\n",
       "  </tbody>\n",
       "</table>\n",
       "</div>"
      ],
      "text/plain": [
       "   passanger  coupon  CoffeeHouse  destination  expiration  toCoupon_GEQ25min  \\\n",
       "0          0       0            0            0           0                  1   \n",
       "\n",
       "   Bar  gender  Restaurant20To50  temperature  \n",
       "0    0       0                 0            2  "
      ]
     },
     "execution_count": 28,
     "metadata": {},
     "output_type": "execute_result"
    }
   ],
   "source": [
    "df = pd.DataFrame(data)\n",
    "df"
   ]
  },
  {
   "cell_type": "code",
   "execution_count": 30,
   "metadata": {},
   "outputs": [],
   "source": [
    "a = {\n",
    "  \"passanger\": [\n",
    "    0\n",
    "  ],\n",
    "  \"coupon\": [\n",
    "    0\n",
    "  ],\n",
    "  \"CoffeeHouse\": [\n",
    "    0\n",
    "  ],\n",
    "  \"destination\": [\n",
    "    0\n",
    "  ],\n",
    "  \"expiration\": [\n",
    "    0\n",
    "  ],\n",
    "  \"toCoupon_GEQ25min\": [\n",
    "    0\n",
    "  ],\n",
    "  \"Bar\": [\n",
    "    0\n",
    "  ],\n",
    "  \"gender\": [\n",
    "    0\n",
    "  ],\n",
    "  \"Restaurant20To50\": [\n",
    "    0\n",
    "  ],\n",
    "  \"temperature\": [\n",
    "    0\n",
    "  ]\n",
    "}"
   ]
  },
  {
   "cell_type": "code",
   "execution_count": 32,
   "metadata": {},
   "outputs": [
    {
     "data": {
      "text/html": [
       "<div>\n",
       "<style scoped>\n",
       "    .dataframe tbody tr th:only-of-type {\n",
       "        vertical-align: middle;\n",
       "    }\n",
       "\n",
       "    .dataframe tbody tr th {\n",
       "        vertical-align: top;\n",
       "    }\n",
       "\n",
       "    .dataframe thead th {\n",
       "        text-align: right;\n",
       "    }\n",
       "</style>\n",
       "<table border=\"1\" class=\"dataframe\">\n",
       "  <thead>\n",
       "    <tr style=\"text-align: right;\">\n",
       "      <th></th>\n",
       "      <th>passanger</th>\n",
       "      <th>coupon</th>\n",
       "      <th>CoffeeHouse</th>\n",
       "      <th>destination</th>\n",
       "      <th>expiration</th>\n",
       "      <th>toCoupon_GEQ25min</th>\n",
       "      <th>Bar</th>\n",
       "      <th>gender</th>\n",
       "      <th>Restaurant20To50</th>\n",
       "      <th>temperature</th>\n",
       "    </tr>\n",
       "  </thead>\n",
       "  <tbody>\n",
       "    <tr>\n",
       "      <th>0</th>\n",
       "      <td>0</td>\n",
       "      <td>0</td>\n",
       "      <td>0</td>\n",
       "      <td>0</td>\n",
       "      <td>0</td>\n",
       "      <td>0</td>\n",
       "      <td>0</td>\n",
       "      <td>0</td>\n",
       "      <td>0</td>\n",
       "      <td>0</td>\n",
       "    </tr>\n",
       "  </tbody>\n",
       "</table>\n",
       "</div>"
      ],
      "text/plain": [
       "   passanger  coupon  CoffeeHouse  destination  expiration  toCoupon_GEQ25min  \\\n",
       "0          0       0            0            0           0                  0   \n",
       "\n",
       "   Bar  gender  Restaurant20To50  temperature  \n",
       "0    0       0                 0            0  "
      ]
     },
     "execution_count": 32,
     "metadata": {},
     "output_type": "execute_result"
    }
   ],
   "source": [
    "df = pd.DataFrame.from_dict(a)\n",
    "df"
   ]
  }
 ],
 "metadata": {
  "kernelspec": {
   "display_name": "inferenceapi",
   "language": "python",
   "name": "python3"
  },
  "language_info": {
   "codemirror_mode": {
    "name": "ipython",
    "version": 3
   },
   "file_extension": ".py",
   "mimetype": "text/x-python",
   "name": "python",
   "nbconvert_exporter": "python",
   "pygments_lexer": "ipython3",
   "version": "3.8.16"
  },
  "orig_nbformat": 4,
  "vscode": {
   "interpreter": {
    "hash": "4ae5b5262c259df6dff1a8f64071820749405950e22e98f507744ff5ec429399"
   }
  }
 },
 "nbformat": 4,
 "nbformat_minor": 2
}
